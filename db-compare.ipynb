{
 "cells": [
  {
   "cell_type": "code",
   "execution_count": 2,
   "metadata": {},
   "outputs": [],
   "source": [
    "import pandas as pd\n",
    "import time\n",
    "import pprint"
   ]
  },
  {
   "attachments": {},
   "cell_type": "markdown",
   "metadata": {},
   "source": [
    "# Leitura dos Dados"
   ]
  },
  {
   "cell_type": "code",
   "execution_count": 5,
   "metadata": {},
   "outputs": [
    {
     "name": "stderr",
     "output_type": "stream",
     "text": [
      "C:\\Users\\bruno\\AppData\\Local\\Temp\\ipykernel_14852\\147497070.py:2: DtypeWarning: Columns (13) have mixed types. Specify dtype option on import or set low_memory=False.\n",
      "  df = pd.read_csv('data/unpacked/ca-2019-2022.csv', delimiter=';')\n"
     ]
    },
    {
     "data": {
      "text/html": [
       "<div>\n",
       "<style scoped>\n",
       "    .dataframe tbody tr th:only-of-type {\n",
       "        vertical-align: middle;\n",
       "    }\n",
       "\n",
       "    .dataframe tbody tr th {\n",
       "        vertical-align: top;\n",
       "    }\n",
       "\n",
       "    .dataframe thead th {\n",
       "        text-align: right;\n",
       "    }\n",
       "</style>\n",
       "<table border=\"1\" class=\"dataframe\">\n",
       "  <thead>\n",
       "    <tr style=\"text-align: right;\">\n",
       "      <th></th>\n",
       "      <th>Regiao - Sigla</th>\n",
       "      <th>Estado - Sigla</th>\n",
       "      <th>Municipio</th>\n",
       "      <th>Revenda</th>\n",
       "      <th>CNPJ da Revenda</th>\n",
       "      <th>Nome da Rua</th>\n",
       "      <th>Numero Rua</th>\n",
       "      <th>Complemento</th>\n",
       "      <th>Bairro</th>\n",
       "      <th>Cep</th>\n",
       "      <th>Produto</th>\n",
       "      <th>Data da Coleta</th>\n",
       "      <th>Valor de Venda</th>\n",
       "      <th>Valor de Compra</th>\n",
       "      <th>Unidade de Medida</th>\n",
       "      <th>Bandeira</th>\n",
       "    </tr>\n",
       "  </thead>\n",
       "  <tbody>\n",
       "    <tr>\n",
       "      <th>0</th>\n",
       "      <td>S</td>\n",
       "      <td>RS</td>\n",
       "      <td>CANOAS</td>\n",
       "      <td>METROPOLITANO COMERCIO DE COMBUSTIVEIS LTDA</td>\n",
       "      <td>88.587.589/0001-17</td>\n",
       "      <td>AVENIDA GUILHERME SCHELL</td>\n",
       "      <td>6340</td>\n",
       "      <td>NaN</td>\n",
       "      <td>CENTRO</td>\n",
       "      <td>92310-000</td>\n",
       "      <td>GASOLINA</td>\n",
       "      <td>01/07/2019</td>\n",
       "      <td>4,259</td>\n",
       "      <td>NaN</td>\n",
       "      <td>R$ / litro</td>\n",
       "      <td>BRANCA</td>\n",
       "    </tr>\n",
       "    <tr>\n",
       "      <th>1</th>\n",
       "      <td>S</td>\n",
       "      <td>RS</td>\n",
       "      <td>CANOAS</td>\n",
       "      <td>METROPOLITANO COMERCIO DE COMBUSTIVEIS LTDA</td>\n",
       "      <td>88.587.589/0001-17</td>\n",
       "      <td>AVENIDA GUILHERME SCHELL</td>\n",
       "      <td>6340</td>\n",
       "      <td>NaN</td>\n",
       "      <td>CENTRO</td>\n",
       "      <td>92310-000</td>\n",
       "      <td>ETANOL</td>\n",
       "      <td>01/07/2019</td>\n",
       "      <td>4,099</td>\n",
       "      <td>NaN</td>\n",
       "      <td>R$ / litro</td>\n",
       "      <td>BRANCA</td>\n",
       "    </tr>\n",
       "    <tr>\n",
       "      <th>2</th>\n",
       "      <td>S</td>\n",
       "      <td>RS</td>\n",
       "      <td>CANOAS</td>\n",
       "      <td>METROPOLITANO COMERCIO DE COMBUSTIVEIS LTDA</td>\n",
       "      <td>88.587.589/0001-17</td>\n",
       "      <td>AVENIDA GUILHERME SCHELL</td>\n",
       "      <td>6340</td>\n",
       "      <td>NaN</td>\n",
       "      <td>CENTRO</td>\n",
       "      <td>92310-000</td>\n",
       "      <td>GNV</td>\n",
       "      <td>01/07/2019</td>\n",
       "      <td>3,449</td>\n",
       "      <td>NaN</td>\n",
       "      <td>R$ / m³</td>\n",
       "      <td>BRANCA</td>\n",
       "    </tr>\n",
       "    <tr>\n",
       "      <th>3</th>\n",
       "      <td>NE</td>\n",
       "      <td>BA</td>\n",
       "      <td>ITABUNA</td>\n",
       "      <td>LOPES LEMOS COMERCIO DE COMBUSTIVEIS LTDA</td>\n",
       "      <td>00.231.792/0001-05</td>\n",
       "      <td>RODOVIA BR 101</td>\n",
       "      <td>SN</td>\n",
       "      <td>KM    503 5</td>\n",
       "      <td>MANOEL LEAO</td>\n",
       "      <td>45601-402</td>\n",
       "      <td>GASOLINA</td>\n",
       "      <td>01/07/2019</td>\n",
       "      <td>4,69</td>\n",
       "      <td>NaN</td>\n",
       "      <td>R$ / litro</td>\n",
       "      <td>BRANCA</td>\n",
       "    </tr>\n",
       "    <tr>\n",
       "      <th>4</th>\n",
       "      <td>NE</td>\n",
       "      <td>BA</td>\n",
       "      <td>ITABUNA</td>\n",
       "      <td>LOPES LEMOS COMERCIO DE COMBUSTIVEIS LTDA</td>\n",
       "      <td>00.231.792/0001-05</td>\n",
       "      <td>RODOVIA BR 101</td>\n",
       "      <td>SN</td>\n",
       "      <td>KM    503 5</td>\n",
       "      <td>MANOEL LEAO</td>\n",
       "      <td>45601-402</td>\n",
       "      <td>ETANOL</td>\n",
       "      <td>01/07/2019</td>\n",
       "      <td>3,49</td>\n",
       "      <td>NaN</td>\n",
       "      <td>R$ / litro</td>\n",
       "      <td>BRANCA</td>\n",
       "    </tr>\n",
       "  </tbody>\n",
       "</table>\n",
       "</div>"
      ],
      "text/plain": [
       "  Regiao - Sigla Estado - Sigla Municipio  \\\n",
       "0              S             RS    CANOAS   \n",
       "1              S             RS    CANOAS   \n",
       "2              S             RS    CANOAS   \n",
       "3             NE             BA   ITABUNA   \n",
       "4             NE             BA   ITABUNA   \n",
       "\n",
       "                                       Revenda      CNPJ da Revenda  \\\n",
       "0  METROPOLITANO COMERCIO DE COMBUSTIVEIS LTDA   88.587.589/0001-17   \n",
       "1  METROPOLITANO COMERCIO DE COMBUSTIVEIS LTDA   88.587.589/0001-17   \n",
       "2  METROPOLITANO COMERCIO DE COMBUSTIVEIS LTDA   88.587.589/0001-17   \n",
       "3    LOPES LEMOS COMERCIO DE COMBUSTIVEIS LTDA   00.231.792/0001-05   \n",
       "4    LOPES LEMOS COMERCIO DE COMBUSTIVEIS LTDA   00.231.792/0001-05   \n",
       "\n",
       "                Nome da Rua Numero Rua  Complemento       Bairro        Cep  \\\n",
       "0  AVENIDA GUILHERME SCHELL       6340          NaN       CENTRO  92310-000   \n",
       "1  AVENIDA GUILHERME SCHELL       6340          NaN       CENTRO  92310-000   \n",
       "2  AVENIDA GUILHERME SCHELL       6340          NaN       CENTRO  92310-000   \n",
       "3            RODOVIA BR 101         SN  KM    503 5  MANOEL LEAO  45601-402   \n",
       "4            RODOVIA BR 101         SN  KM    503 5  MANOEL LEAO  45601-402   \n",
       "\n",
       "    Produto Data da Coleta Valor de Venda Valor de Compra Unidade de Medida  \\\n",
       "0  GASOLINA     01/07/2019          4,259             NaN        R$ / litro   \n",
       "1    ETANOL     01/07/2019          4,099             NaN        R$ / litro   \n",
       "2       GNV     01/07/2019          3,449             NaN           R$ / m³   \n",
       "3  GASOLINA     01/07/2019           4,69             NaN        R$ / litro   \n",
       "4    ETANOL     01/07/2019           3,49             NaN        R$ / litro   \n",
       "\n",
       "  Bandeira  \n",
       "0   BRANCA  \n",
       "1   BRANCA  \n",
       "2   BRANCA  \n",
       "3   BRANCA  \n",
       "4   BRANCA  "
      ]
     },
     "execution_count": 5,
     "metadata": {},
     "output_type": "execute_result"
    }
   ],
   "source": [
    "# Dataset read\n",
    "df = pd.read_csv('data/unpacked/ca-2019-2022.csv', delimiter=';')\n",
    "df.head(5)"
   ]
  },
  {
   "attachments": {},
   "cell_type": "markdown",
   "metadata": {},
   "source": [
    "# Experimento Banco de Dados Relacional (SQLite)"
   ]
  },
  {
   "cell_type": "code",
   "execution_count": 13,
   "metadata": {},
   "outputs": [],
   "source": [
    "from sqlalchemy import create_engine, Column, String, Integer, ForeignKey, DateTime, Float\n",
    "from sqlalchemy.orm import Session\n",
    "\n",
    "# Use the default method for abstracting classes to tables\n",
    "from sqlalchemy.ext.declarative import declarative_base\n",
    "Base = declarative_base()"
   ]
  },
  {
   "cell_type": "code",
   "execution_count": 14,
   "metadata": {},
   "outputs": [],
   "source": [
    "class Coleta(Base):\n",
    "    __tablename__ = 'coleta'\n",
    "    id = Column(Integer, primary_key=True)\n",
    "    regiao = Column(String(255))\n",
    "    estado = Column(String(255))\n",
    "    municipio = Column(String(255))\n",
    "    revenda = Column(String(255))\n",
    "    cnpj = Column(String(255))\n",
    "    rua = Column(String(255))\n",
    "    numero = Column(String(255))\n",
    "    complemento = Column(String(255))\n",
    "    bairro = Column(String(255))\n",
    "    cep = Column(String(255))\n",
    "    produto = Column(String(255))\n",
    "    data = Column(String(255))\n",
    "    valor_venda = Column(String(255))\n",
    "    valor_compra = Column(String(255))\n",
    "    unidade_medida = Column(String(255))\n",
    "    bandeira = Column(String(255))"
   ]
  },
  {
   "cell_type": "code",
   "execution_count": 15,
   "metadata": {},
   "outputs": [],
   "source": [
    "# Create DB connection\n",
    "engine = create_engine(\"sqlite:///precos.sqlite\")\n",
    "conn = engine.connect()\n",
    "session = Session(bind=engine)\n",
    "\n",
    "# Create metadata layer that abstracts our SQL DB\n",
    "Base.metadata.create_all(engine)"
   ]
  },
  {
   "cell_type": "code",
   "execution_count": 16,
   "metadata": {},
   "outputs": [
    {
     "name": "stdout",
     "output_type": "stream",
     "text": [
      "### SQL ###  2563560 registros.\n",
      "Tempo de inserção: 442.05 segundos\n"
     ]
    }
   ],
   "source": [
    "#Create objects\n",
    "tempo_ini = time.time()\n",
    "for index, row in df.iterrows():\n",
    "    session.add(Coleta(\n",
    "        id = index,\n",
    "        regiao = row['Regiao - Sigla'],\n",
    "        estado = row['Estado - Sigla'],\n",
    "        municipio = row['Municipio'],\n",
    "        revenda = row['Revenda'],\n",
    "        cnpj = row['CNPJ da Revenda'],\n",
    "        rua = row['Nome da Rua'],\n",
    "        numero = row['Numero Rua'],\n",
    "        complemento = row['Complemento'],\n",
    "        bairro = row['Bairro'],\n",
    "        cep = row['Cep'],\n",
    "        produto = row['Produto'],\n",
    "        data = row['Data da Coleta'],\n",
    "        valor_venda = row['Valor de Venda'],\n",
    "        valor_compra = row['Valor de Compra'],\n",
    "        unidade_medida = row['Unidade de Medida'],\n",
    "        bandeira = row['Bandeira']\n",
    "    ))\n",
    "# Commit changes to database\n",
    "session.commit()\n",
    "tempo_fim = time.time()\n",
    "print('### SQL ### ', df.shape[0], 'registros.')\n",
    "print(\"Tempo de inserção: {:.2f} segundos\".format((tempo_fim - tempo_ini)))"
   ]
  },
  {
   "cell_type": "code",
   "execution_count": 17,
   "metadata": {},
   "outputs": [
    {
     "name": "stdout",
     "output_type": "stream",
     "text": [
      "### SQL ###  1248130 registros.\n",
      "Tempo de consulta: 10.18639 segundos\n"
     ]
    }
   ],
   "source": [
    "query = \"\"\"SELECT * FROM coleta AS c WHERE c.regiao = 'SE';\"\"\"\n",
    "tempo_ini = time.time()\n",
    "result = pd.read_sql_query(query, session.bind)\n",
    "tempo_fim = time.time()\n",
    "print('### SQL ### ', result.shape[0], 'registros.')\n",
    "print(\"Tempo de consulta: {:.5f} segundos\".format((tempo_fim - tempo_ini)))"
   ]
  },
  {
   "attachments": {},
   "cell_type": "markdown",
   "metadata": {},
   "source": [
    "# Experimento Banco de Dados Documentos (MongoDB)"
   ]
  },
  {
   "cell_type": "code",
   "execution_count": 18,
   "metadata": {},
   "outputs": [
    {
     "data": {
      "text/plain": [
       "{'nIndexesWas': 1, 'ns': 'precos.coleta', 'ok': 1.0}"
      ]
     },
     "execution_count": 18,
     "metadata": {},
     "output_type": "execute_result"
    }
   ],
   "source": [
    "import pymongo\n",
    "\n",
    "# Establish connection\n",
    "conn = \"mongodb://localhost:27017\"\n",
    "client = pymongo.MongoClient(conn)\n",
    "\n",
    "# Create a database\n",
    "db = client.precos\n",
    "db.drop_collection(name_or_collection='coleta')"
   ]
  },
  {
   "cell_type": "code",
   "execution_count": 19,
   "metadata": {},
   "outputs": [
    {
     "name": "stdout",
     "output_type": "stream",
     "text": [
      "### NoSQL ###  2563560 registros.\n",
      "Tempo de inserção: 74.26 segundos\n"
     ]
    }
   ],
   "source": [
    "#Create objects\n",
    "tempo_ini = time.time()\n",
    "db.coleta.insert_many(df.to_dict('records'))\n",
    "tempo_fim = time.time()\n",
    "print('### NoSQL ### ', df.shape[0], 'registros.')\n",
    "print(\"Tempo de inserção: {:.2f} segundos\".format((tempo_fim - tempo_ini)))"
   ]
  },
  {
   "cell_type": "code",
   "execution_count": 20,
   "metadata": {},
   "outputs": [
    {
     "name": "stdout",
     "output_type": "stream",
     "text": [
      "### NoSQL ###  1248130 registros.\n",
      "Tempo de consulta: 1.95817 segundos\n"
     ]
    }
   ],
   "source": [
    "find = {'Regiao - Sigla':'SE'}\n",
    "tempo_ini = time.time()\n",
    "count = db.coleta.count_documents(find)\n",
    "tempo_fim = time.time()\n",
    "print('### NoSQL ### ', count, 'registros.')\n",
    "print(\"Tempo de consulta: {:.5f} segundos\".format((tempo_fim - tempo_ini)))"
   ]
  }
 ],
 "metadata": {
  "kernelspec": {
   "display_name": "base",
   "language": "python",
   "name": "python3"
  },
  "language_info": {
   "codemirror_mode": {
    "name": "ipython",
    "version": 3
   },
   "file_extension": ".py",
   "mimetype": "text/x-python",
   "name": "python",
   "nbconvert_exporter": "python",
   "pygments_lexer": "ipython3",
   "version": "3.9.12"
  },
  "orig_nbformat": 4,
  "vscode": {
   "interpreter": {
    "hash": "86ced299d573a58fc1d464bd2f917835a691b9d9cefee14c59fce60008360703"
   }
  }
 },
 "nbformat": 4,
 "nbformat_minor": 2
}
